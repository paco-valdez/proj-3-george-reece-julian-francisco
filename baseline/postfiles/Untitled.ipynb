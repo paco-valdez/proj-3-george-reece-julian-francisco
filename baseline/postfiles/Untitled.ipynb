{
 "cells": [
  {
   "cell_type": "code",
   "execution_count": 1,
   "id": "c25185bc",
   "metadata": {},
   "outputs": [
    {
     "name": "stdout",
     "output_type": "stream",
     "text": [
      "/home/jupyter/w205/proj-3-george-reece-julian-francisco/baseline/postfiles\n"
     ]
    }
   ],
   "source": [
    "import os\n",
    "print(os.getcwd())"
   ]
  },
  {
   "cell_type": "code",
   "execution_count": 2,
   "id": "16ffedb4",
   "metadata": {},
   "outputs": [],
   "source": [
    "import json\n",
    "\n"
   ]
  },
  {
   "cell_type": "code",
   "execution_count": 17,
   "id": "b5c562b9",
   "metadata": {},
   "outputs": [],
   "source": [
    "with open('post10.json', 'w') as json_file:\n",
    "    test_data = {\"user_id\": 126, \"item_id\": 1209, \"quantity\": 1, \"price_paid\": 150, \"vendor_id\": 489}\n",
    "    json_d = json.dumps(test_data)\n",
    "    json_file.write(json_d)\n",
    "    "
   ]
  },
  {
   "cell_type": "code",
   "execution_count": null,
   "id": "4cf676d7",
   "metadata": {},
   "outputs": [],
   "source": [
    "user_id:48920\n",
    "item_id:5893\n",
    "quantity:1\n",
    "price_paid:25\n",
    "vendor_id:489"
   ]
  },
  {
   "cell_type": "code",
   "execution_count": null,
   "id": "870ee636",
   "metadata": {},
   "outputs": [],
   "source": [
    "user_id:48920\n",
    "item_id:5893\n",
    "quantity:1\n",
    "price_paid:25\n",
    "vendor_id:489"
   ]
  },
  {
   "cell_type": "code",
   "execution_count": null,
   "id": "edd4a235",
   "metadata": {},
   "outputs": [],
   "source": [
    "user_id:87\n",
    "guild_id:340\n",
    "action:\"join\""
   ]
  },
  {
   "cell_type": "code",
   "execution_count": null,
   "id": "8392de63",
   "metadata": {},
   "outputs": [],
   "source": [
    "user_id:1017\n",
    "guild_id:340\n",
    "action:\"join\""
   ]
  }
 ],
 "metadata": {
  "environment": {
   "name": "common-cpu.m75",
   "type": "gcloud",
   "uri": "gcr.io/deeplearning-platform-release/base-cpu:m75"
  },
  "kernelspec": {
   "display_name": "Python 3",
   "language": "python",
   "name": "python3"
  },
  "language_info": {
   "codemirror_mode": {
    "name": "ipython",
    "version": 3
   },
   "file_extension": ".py",
   "mimetype": "text/x-python",
   "name": "python",
   "nbconvert_exporter": "python",
   "pygments_lexer": "ipython3",
   "version": "3.7.10"
  }
 },
 "nbformat": 4,
 "nbformat_minor": 5
}
